{
 "cells": [
  {
   "cell_type": "markdown",
   "metadata": {},
   "source": [
    "#    TP03: Régression logistique\n",
    "\n",
    " La ***régression logistique*** est une autre technique supervisé utilisé en machine learning. C'est la méthode de classification pour les problèmes avec deux classes(0/1).\n",
    " \n",
    " ## I-Algorithm du Gradient de descent\n",
    " \n",
    " -***Hypothèses***: $h_\\theta(x)= \\frac{1}{1+\\exp(-\\theta^Tx)}$\n",
    " \n",
    " $h_\\theta(x)> 0,5 $  quand la classe (étiquette) vaut $Y=1$.\n",
    "    \n",
    "$h_\\theta(x) < 0,5$  quand la classe (étiquette) vaut $Y=0$.\n",
    " \n",
    " ***Paramètres du model***: $\\theta$ avec $m$ examples, $n $ variables\n",
    " \n",
    "***Fonction du coût***:$J(\\theta)=-\\frac{1}{m}\\sum_{i=0}^{m} y(i)\\log(h_\\theta(x(i)))+(1-y(i)) \\log(1-h_\\theta(x(i))$\n",
    " \n",
    "***Objectif***: Trouver les meilleurs paramètres $\\theta$  revient à minimiser  la fonction du coût.\n",
    "\t\t$\t\\min_{\\theta}J(\\theta)$\t\n",
    "\t\t\n",
    "\t\t\n",
    "***Algorithme du Gradient de descent***: $ \\theta_j=\\theta_j-\\alpha\t\\frac{1}{m}\\sum_{i=0}^{m} (h_\\theta(x(i))-y(i))x_j(i)$\n"
   ]
  },
  {
   "cell_type": "markdown",
   "metadata": {},
   "source": [
    "### 1. Recuperation des données\n",
    "#### ***Q1***\n",
    "   -utilisez la fonction ***make_blobs(n_samples,centers, cluster_std,random_state)*** du module ***sklearn.datasets*** pour generer deux classes puis visualiser les deux classes comme suivants:\n",
    "*   rouge: y=0\n",
    "*   blue: y=1\n",
    "<img src=\"log.png\" style=\"with:150px;height:280px\"/>"
   ]
  },
  {
   "cell_type": "code",
   "execution_count": 1,
   "metadata": {},
   "outputs": [],
   "source": [
    "import numpy as np\n",
    "import pandas as pd\n",
    "import matplotlib.pyplot as plt\n",
    "import pandas as pd\n",
    "import seaborn as sns"
   ]
  },
  {
   "cell_type": "code",
   "execution_count": null,
   "metadata": {},
   "outputs": [],
   "source": []
  },
  {
   "cell_type": "code",
   "execution_count": 2,
   "metadata": {},
   "outputs": [
    {
     "data": {
      "image/png": "[encoded data removed]",
      "text/plain": [
       "<Figure size 432x288 with 1 Axes>"
      ]
     },
     "metadata": {
      "needs_background": "light"
     },
     "output_type": "display_data"
    }
   ],
   "source": [
    "import sklearn.datasets as sd\n",
    "import numpy as np\n",
    "import matplotlib.pyplot as plt\n",
    "#np.random.seed(0)\n",
    "x,y = sd.make_blobs(n_samples=100,centers=2,cluster_std=2,random_state=0)\n",
    "colors = ['b','r']\n",
    "for i,col in enumerate(colors):\n",
    "    a=i==y\n",
    "    plt.scatter(x[a,0],x[a,1], c=col)"
   ]
  },
  {
   "cell_type": "markdown",
   "metadata": {},
   "source": [
    "#### ***Q2***   \n",
    "          -a)Corriger les dimentions avec np.reshape\n",
    "      \n",
    "          -b)Créez la matrice X\n",
    "          \n",
    "          -c) Créez le vecteur $\\_theta$ (initialisé avec des coefficients nuls)"
   ]
  },
  {
   "cell_type": "code",
   "execution_count": 5,
   "metadata": {},
   "outputs": [
    {
     "name": "stdout",
     "output_type": "stream",
     "text": [
      "X: (100, 3)\n",
      "y: (100, 1)\n",
      "theta: (3, 1)\n"
     ]
    },
    {
     "data": {
      "text/plain": [
       "array([[0.49081095],\n",
       "       [0.04748704],\n",
       "       [0.99381033]])"
      ]
     },
     "execution_count": 5,
     "metadata": {},
     "output_type": "execute_result"
    }
   ],
   "source": [
    "y = np.reshape(y,(100,1))\n",
    "X = np.hstack((x, np.ones((100,1))))\n",
    "theta = np.random.random((X.shape[1],1))\n",
    "\n",
    "print(\"X:\", X.shape)\n",
    "print(\"y:\", y.shape)\n",
    "print(\"theta:\", theta.shape)\n",
    "theta"
   ]
  },
  {
   "cell_type": "markdown",
   "metadata": {},
   "source": [
    "### 2. Implémentation du modèle et évaluation\n",
    " ####  ***Q1***\n",
    " \n",
    "       "
   ]
  },
  {
   "cell_type": "markdown",
   "metadata": {},
   "source": [
    " a) Implémenter la ***fonction sigmoid*** $h_\\theta(x)= \\frac{1}{1+\\exp(-X\\theta)}$\n",
    " \n",
    " b) Ecrire la ***Fonction du coût***:$J(\\theta)=-\\frac{1}{m}\\sum_{i=0}^{m} y(i)\\log(h_\\theta(x(i)))+(1-y(i)) \\log(1-h_\\theta(x(i))$\n",
    " \n",
    " c) Ecrire un script qui définit la fonction du gradiant $$ \\frac{\\delta J(\\theta)}{\\delta \\theta}=\\frac{1}{m}X^T.(X.\\theta-y)$$\n",
    " \n",
    " d) Implementer la descente de gradient en utilisant de gradiant:\n",
    "$$ \\theta\\leftarrow \\theta- \\alpha\\frac{\\delta J(\\theta)}{\\delta \\theta}$$\n",
    " \n",
    " e) Trouver les valeurs de $\\theta$ pour un learning rate $\\alpha=0.1$ et un nombre d'itérations de $150$"
   ]
  },
  {
   "cell_type": "code",
   "execution_count": 5,
   "metadata": {},
   "outputs": [],
   "source": [
    "def sigmoid(x,theta):\n",
    "    Z = x.dot(theta)\n",
    "    return 1 / (1+np.exp(-Z))\n",
    "\n",
    "def cost(x,y,theta):\n",
    "    m = -1/len(x)\n",
    "    h = sigmoid(x,theta)\n",
    "    return m*np.sum(y*np.log(h) + (1-y)*np.log(1-h))\n",
    "\n",
    "def gradient(x,y,theta):\n",
    "    m = 1/len(x)\n",
    "    return m*x.T.dot(X@theta -y)\n",
    "\n",
    "def gradient_descent(x,y,theta, l_rate=0.1, n_iter=100):\n",
    "    hist = []\n",
    "    for i in range(n_iter):\n",
    "        theta -= l_rate*gradient(x,y,theta)\n",
    "        hist.append(cost(x,y,theta))\n",
    "    \n",
    "    return theta, hist"
   ]
  },
  {
   "cell_type": "code",
   "execution_count": 6,
   "metadata": {},
   "outputs": [
    {
     "data": {
      "text/plain": [
       "array([[ 0.14879904],\n",
       "       [-0.1556525 ],\n",
       "       [ 0.66305502]])"
      ]
     },
     "execution_count": 6,
     "metadata": {},
     "output_type": "execute_result"
    }
   ],
   "source": [
    "l_rate, n_iter = 0.01, 500\n",
    "theta, cost_hist = gradient_descent(X,y,theta, l_rate, n_iter)\n",
    "theta"
   ]
  },
  {
   "cell_type": "markdown",
   "metadata": {},
   "source": [
    " ####  ***Q2***\n",
    " \n",
    " a) Evaluer le modèle en calculant le coefficient de determination\n",
    " \n",
    " b) Tracer la courbe d'apprantissage"
   ]
  },
  {
   "cell_type": "code",
   "execution_count": 7,
   "metadata": {},
   "outputs": [],
   "source": [
    "def determination_coef(y,pred):\n",
    "    u  = ((y - pred)**2).sum()\n",
    "    v = ((y - y.mean())**2).sum()\n",
    "    return 1 - (u/v)\n",
    "\n",
    "def predections(A):\n",
    "    A = A>=0.5\n",
    "    return np.array(A, dtype='int')"
   ]
  },
  {
   "cell_type": "code",
   "execution_count": 8,
   "metadata": {},
   "outputs": [
    {
     "data": {
      "text/plain": [
       "-0.48"
      ]
     },
     "execution_count": 8,
     "metadata": {},
     "output_type": "execute_result"
    }
   ],
   "source": [
    "pred = sigmoid(X,theta)\n",
    "pred = predections(pred)\n",
    "determination_coef(y, pred)"
   ]
  },
  {
   "cell_type": "code",
   "execution_count": 9,
   "metadata": {},
   "outputs": [],
   "source": [
    " from sklearn.metrics import accuracy_score"
   ]
  },
  {
   "cell_type": "code",
   "execution_count": 10,
   "metadata": {},
   "outputs": [
    {
     "data": {
      "text/plain": [
       "0.63"
      ]
     },
     "execution_count": 10,
     "metadata": {},
     "output_type": "execute_result"
    }
   ],
   "source": [
    "accuracy_score(y,pred)"
   ]
  },
  {
   "cell_type": "code",
   "execution_count": 11,
   "metadata": {},
   "outputs": [
    {
     "data": {
      "text/plain": [
       "<AxesSubplot:title={'center':\"courbe d'apprentissage\"}>"
      ]
     },
     "execution_count": 11,
     "metadata": {},
     "output_type": "execute_result"
    },
    {
     "data": {
      "image/png": "[encoded data removed]",
      "text/plain": [
       "<Figure size 432x288 with 1 Axes>"
      ]
     },
     "metadata": {
      "needs_background": "light"
     },
     "output_type": "display_data"
    }
   ],
   "source": [
    "plt.title(\"courbe d'apprentissage\")\n",
    "sns.lineplot(y=cost_hist, x=range(n_iter))"
   ]
  },
  {
   "cell_type": "markdown",
   "metadata": {},
   "source": [
    "### 3. Prédiction\n",
    "\n",
    "A quelle classe apartient les deux points suivants: x1=(1,5); x2(3,1) "
   ]
  },
  {
   "cell_type": "code",
   "execution_count": 12,
   "metadata": {},
   "outputs": [
    {
     "name": "stdout",
     "output_type": "stream",
     "text": [
      "x1 de classe 1\n",
      "x2 de classe 1\n"
     ]
    }
   ],
   "source": [
    "x1 = np.array([1,5,1])\n",
    "x2 = np.array([3,1,1])\n",
    "\n",
    "A1 = sigmoid(x1,theta)\n",
    "A2 = sigmoid(x2,theta)\n",
    "\n",
    "print(\"x1 de classe\",predections(A1)[0])\n",
    "print(\"x2 de classe\",predections(A2)[0])"
   ]
  },
  {
   "cell_type": "markdown",
   "metadata": {},
   "source": [
    "## II- Utilisation des modules python\n",
    "### 1. Récuperation des données\n",
    "Les données sont stocker dans le fichier banking.csv. Ce dataset contient des information collecter par un centre d'appel pour savoir si un client souscrira (1/0) à un dépôt à terme (variable y) dans une baque.\n",
    "\n",
    "1-Recuperer les données de ce fichier dans un DataFrame data\n",
    "\n",
    "2-Afficher les 10 premiere ligne de ce dataframe\n",
    "\n",
    "3-Afficher le nombre de client par class (1/0)"
   ]
  },
  {
   "cell_type": "code",
   "execution_count": 13,
   "metadata": {
    "scrolled": true
   },
   "outputs": [
    {
     "data": {
      "text/html": [
       "<div>\n",
       "<style scoped>\n",
       "    .dataframe tbody tr th:only-of-type {\n",
       "        vertical-align: middle;\n",
       "    }\n",
       "\n",
       "    .dataframe tbody tr th {\n",
       "        vertical-align: top;\n",
       "    }\n",
       "\n",
       "    .dataframe thead th {\n",
       "        text-align: right;\n",
       "    }\n",
       "</style>\n",
       "<table border=\"1\" class=\"dataframe\">\n",
       "  <thead>\n",
       "    <tr style=\"text-align: right;\">\n",
       "      <th></th>\n",
       "      <th>age</th>\n",
       "      <th>job</th>\n",
       "      <th>marital</th>\n",
       "      <th>education</th>\n",
       "      <th>default</th>\n",
       "      <th>housing</th>\n",
       "      <th>loan</th>\n",
       "      <th>contact</th>\n",
       "      <th>month</th>\n",
       "      <th>day_of_week</th>\n",
       "      <th>...</th>\n",
       "      <th>campaign</th>\n",
       "      <th>pdays</th>\n",
       "      <th>previous</th>\n",
       "      <th>poutcome</th>\n",
       "      <th>emp_var_rate</th>\n",
       "      <th>cons_price_idx</th>\n",
       "      <th>cons_conf_idx</th>\n",
       "      <th>euribor3m</th>\n",
       "      <th>nr_employed</th>\n",
       "      <th>y</th>\n",
       "    </tr>\n",
       "  </thead>\n",
       "  <tbody>\n",
       "    <tr>\n",
       "      <th>0</th>\n",
       "      <td>44</td>\n",
       "      <td>blue-collar</td>\n",
       "      <td>married</td>\n",
       "      <td>basic.4y</td>\n",
       "      <td>unknown</td>\n",
       "      <td>yes</td>\n",
       "      <td>no</td>\n",
       "      <td>cellular</td>\n",
       "      <td>aug</td>\n",
       "      <td>thu</td>\n",
       "      <td>...</td>\n",
       "      <td>1</td>\n",
       "      <td>999</td>\n",
       "      <td>0</td>\n",
       "      <td>nonexistent</td>\n",
       "      <td>1.4</td>\n",
       "      <td>93.444</td>\n",
       "      <td>-36.1</td>\n",
       "      <td>4.963</td>\n",
       "      <td>5228.1</td>\n",
       "      <td>0</td>\n",
       "    </tr>\n",
       "    <tr>\n",
       "      <th>1</th>\n",
       "      <td>53</td>\n",
       "      <td>technician</td>\n",
       "      <td>married</td>\n",
       "      <td>unknown</td>\n",
       "      <td>no</td>\n",
       "      <td>no</td>\n",
       "      <td>no</td>\n",
       "      <td>cellular</td>\n",
       "      <td>nov</td>\n",
       "      <td>fri</td>\n",
       "      <td>...</td>\n",
       "      <td>1</td>\n",
       "      <td>999</td>\n",
       "      <td>0</td>\n",
       "      <td>nonexistent</td>\n",
       "      <td>-0.1</td>\n",
       "      <td>93.200</td>\n",
       "      <td>-42.0</td>\n",
       "      <td>4.021</td>\n",
       "      <td>5195.8</td>\n",
       "      <td>0</td>\n",
       "    </tr>\n",
       "    <tr>\n",
       "      <th>2</th>\n",
       "      <td>28</td>\n",
       "      <td>management</td>\n",
       "      <td>single</td>\n",
       "      <td>university.degree</td>\n",
       "      <td>no</td>\n",
       "      <td>yes</td>\n",
       "      <td>no</td>\n",
       "      <td>cellular</td>\n",
       "      <td>jun</td>\n",
       "      <td>thu</td>\n",
       "      <td>...</td>\n",
       "      <td>3</td>\n",
       "      <td>6</td>\n",
       "      <td>2</td>\n",
       "      <td>success</td>\n",
       "      <td>-1.7</td>\n",
       "      <td>94.055</td>\n",
       "      <td>-39.8</td>\n",
       "      <td>0.729</td>\n",
       "      <td>4991.6</td>\n",
       "      <td>1</td>\n",
       "    </tr>\n",
       "    <tr>\n",
       "      <th>3</th>\n",
       "      <td>39</td>\n",
       "      <td>services</td>\n",
       "      <td>married</td>\n",
       "      <td>high.school</td>\n",
       "      <td>no</td>\n",
       "      <td>no</td>\n",
       "      <td>no</td>\n",
       "      <td>cellular</td>\n",
       "      <td>apr</td>\n",
       "      <td>fri</td>\n",
       "      <td>...</td>\n",
       "      <td>2</td>\n",
       "      <td>999</td>\n",
       "      <td>0</td>\n",
       "      <td>nonexistent</td>\n",
       "      <td>-1.8</td>\n",
       "      <td>93.075</td>\n",
       "      <td>-47.1</td>\n",
       "      <td>1.405</td>\n",
       "      <td>5099.1</td>\n",
       "      <td>0</td>\n",
       "    </tr>\n",
       "    <tr>\n",
       "      <th>4</th>\n",
       "      <td>55</td>\n",
       "      <td>retired</td>\n",
       "      <td>married</td>\n",
       "      <td>basic.4y</td>\n",
       "      <td>no</td>\n",
       "      <td>yes</td>\n",
       "      <td>no</td>\n",
       "      <td>cellular</td>\n",
       "      <td>aug</td>\n",
       "      <td>fri</td>\n",
       "      <td>...</td>\n",
       "      <td>1</td>\n",
       "      <td>3</td>\n",
       "      <td>1</td>\n",
       "      <td>success</td>\n",
       "      <td>-2.9</td>\n",
       "      <td>92.201</td>\n",
       "      <td>-31.4</td>\n",
       "      <td>0.869</td>\n",
       "      <td>5076.2</td>\n",
       "      <td>1</td>\n",
       "    </tr>\n",
       "    <tr>\n",
       "      <th>5</th>\n",
       "      <td>30</td>\n",
       "      <td>management</td>\n",
       "      <td>divorced</td>\n",
       "      <td>basic.4y</td>\n",
       "      <td>no</td>\n",
       "      <td>yes</td>\n",
       "      <td>no</td>\n",
       "      <td>cellular</td>\n",
       "      <td>jul</td>\n",
       "      <td>tue</td>\n",
       "      <td>...</td>\n",
       "      <td>8</td>\n",
       "      <td>999</td>\n",
       "      <td>0</td>\n",
       "      <td>nonexistent</td>\n",
       "      <td>1.4</td>\n",
       "      <td>93.918</td>\n",
       "      <td>-42.7</td>\n",
       "      <td>4.961</td>\n",
       "      <td>5228.1</td>\n",
       "      <td>0</td>\n",
       "    </tr>\n",
       "    <tr>\n",
       "      <th>6</th>\n",
       "      <td>37</td>\n",
       "      <td>blue-collar</td>\n",
       "      <td>married</td>\n",
       "      <td>basic.4y</td>\n",
       "      <td>no</td>\n",
       "      <td>yes</td>\n",
       "      <td>no</td>\n",
       "      <td>cellular</td>\n",
       "      <td>may</td>\n",
       "      <td>thu</td>\n",
       "      <td>...</td>\n",
       "      <td>1</td>\n",
       "      <td>999</td>\n",
       "      <td>0</td>\n",
       "      <td>nonexistent</td>\n",
       "      <td>-1.8</td>\n",
       "      <td>92.893</td>\n",
       "      <td>-46.2</td>\n",
       "      <td>1.327</td>\n",
       "      <td>5099.1</td>\n",
       "      <td>0</td>\n",
       "    </tr>\n",
       "    <tr>\n",
       "      <th>7</th>\n",
       "      <td>39</td>\n",
       "      <td>blue-collar</td>\n",
       "      <td>divorced</td>\n",
       "      <td>basic.9y</td>\n",
       "      <td>no</td>\n",
       "      <td>yes</td>\n",
       "      <td>no</td>\n",
       "      <td>cellular</td>\n",
       "      <td>may</td>\n",
       "      <td>fri</td>\n",
       "      <td>...</td>\n",
       "      <td>1</td>\n",
       "      <td>999</td>\n",
       "      <td>0</td>\n",
       "      <td>nonexistent</td>\n",
       "      <td>-1.8</td>\n",
       "      <td>92.893</td>\n",
       "      <td>-46.2</td>\n",
       "      <td>1.313</td>\n",
       "      <td>5099.1</td>\n",
       "      <td>0</td>\n",
       "    </tr>\n",
       "    <tr>\n",
       "      <th>8</th>\n",
       "      <td>36</td>\n",
       "      <td>admin.</td>\n",
       "      <td>married</td>\n",
       "      <td>university.degree</td>\n",
       "      <td>no</td>\n",
       "      <td>no</td>\n",
       "      <td>no</td>\n",
       "      <td>cellular</td>\n",
       "      <td>jun</td>\n",
       "      <td>mon</td>\n",
       "      <td>...</td>\n",
       "      <td>1</td>\n",
       "      <td>3</td>\n",
       "      <td>1</td>\n",
       "      <td>success</td>\n",
       "      <td>-2.9</td>\n",
       "      <td>92.963</td>\n",
       "      <td>-40.8</td>\n",
       "      <td>1.266</td>\n",
       "      <td>5076.2</td>\n",
       "      <td>1</td>\n",
       "    </tr>\n",
       "    <tr>\n",
       "      <th>9</th>\n",
       "      <td>27</td>\n",
       "      <td>blue-collar</td>\n",
       "      <td>single</td>\n",
       "      <td>basic.4y</td>\n",
       "      <td>no</td>\n",
       "      <td>yes</td>\n",
       "      <td>no</td>\n",
       "      <td>cellular</td>\n",
       "      <td>apr</td>\n",
       "      <td>thu</td>\n",
       "      <td>...</td>\n",
       "      <td>2</td>\n",
       "      <td>999</td>\n",
       "      <td>1</td>\n",
       "      <td>failure</td>\n",
       "      <td>-1.8</td>\n",
       "      <td>93.075</td>\n",
       "      <td>-47.1</td>\n",
       "      <td>1.410</td>\n",
       "      <td>5099.1</td>\n",
       "      <td>0</td>\n",
       "    </tr>\n",
       "  </tbody>\n",
       "</table>\n",
       "<p>10 rows × 21 columns</p>\n",
       "</div>"
      ],
      "text/plain": [
       "   age          job   marital          education  default housing loan  \\\n",
       "0   44  blue-collar   married           basic.4y  unknown     yes   no   \n",
       "1   53   technician   married            unknown       no      no   no   \n",
       "2   28   management    single  university.degree       no     yes   no   \n",
       "3   39     services   married        high.school       no      no   no   \n",
       "4   55      retired   married           basic.4y       no     yes   no   \n",
       "5   30   management  divorced           basic.4y       no     yes   no   \n",
       "6   37  blue-collar   married           basic.4y       no     yes   no   \n",
       "7   39  blue-collar  divorced           basic.9y       no     yes   no   \n",
       "8   36       admin.   married  university.degree       no      no   no   \n",
       "9   27  blue-collar    single           basic.4y       no     yes   no   \n",
       "\n",
       "    contact month day_of_week  ...  campaign  pdays  previous     poutcome  \\\n",
       "0  cellular   aug         thu  ...         1    999         0  nonexistent   \n",
       "1  cellular   nov         fri  ...         1    999         0  nonexistent   \n",
       "2  cellular   jun         thu  ...         3      6         2      success   \n",
       "3  cellular   apr         fri  ...         2    999         0  nonexistent   \n",
       "4  cellular   aug         fri  ...         1      3         1      success   \n",
       "5  cellular   jul         tue  ...         8    999         0  nonexistent   \n",
       "6  cellular   may         thu  ...         1    999         0  nonexistent   \n",
       "7  cellular   may         fri  ...         1    999         0  nonexistent   \n",
       "8  cellular   jun         mon  ...         1      3         1      success   \n",
       "9  cellular   apr         thu  ...         2    999         1      failure   \n",
       "\n",
       "  emp_var_rate  cons_price_idx  cons_conf_idx  euribor3m  nr_employed  y  \n",
       "0          1.4          93.444          -36.1      4.963       5228.1  0  \n",
       "1         -0.1          93.200          -42.0      4.021       5195.8  0  \n",
       "2         -1.7          94.055          -39.8      0.729       4991.6  1  \n",
       "3         -1.8          93.075          -47.1      1.405       5099.1  0  \n",
       "4         -2.9          92.201          -31.4      0.869       5076.2  1  \n",
       "5          1.4          93.918          -42.7      4.961       5228.1  0  \n",
       "6         -1.8          92.893          -46.2      1.327       5099.1  0  \n",
       "7         -1.8          92.893          -46.2      1.313       5099.1  0  \n",
       "8         -2.9          92.963          -40.8      1.266       5076.2  1  \n",
       "9         -1.8          93.075          -47.1      1.410       5099.1  0  \n",
       "\n",
       "[10 rows x 21 columns]"
      ]
     },
     "execution_count": 13,
     "metadata": {},
     "output_type": "execute_result"
    }
   ],
   "source": [
    "data = pd.read_csv('banking.csv', sep=',')\n",
    "data.head(10)"
   ]
  },
  {
   "cell_type": "code",
   "execution_count": 14,
   "metadata": {},
   "outputs": [
    {
     "data": {
      "text/html": [
       "<div>\n",
       "<style scoped>\n",
       "    .dataframe tbody tr th:only-of-type {\n",
       "        vertical-align: middle;\n",
       "    }\n",
       "\n",
       "    .dataframe tbody tr th {\n",
       "        vertical-align: top;\n",
       "    }\n",
       "\n",
       "    .dataframe thead th {\n",
       "        text-align: right;\n",
       "    }\n",
       "</style>\n",
       "<table border=\"1\" class=\"dataframe\">\n",
       "  <thead>\n",
       "    <tr style=\"text-align: right;\">\n",
       "      <th></th>\n",
       "      <th>age</th>\n",
       "      <th>job</th>\n",
       "      <th>marital</th>\n",
       "      <th>education</th>\n",
       "      <th>default</th>\n",
       "      <th>housing</th>\n",
       "      <th>loan</th>\n",
       "      <th>contact</th>\n",
       "      <th>month</th>\n",
       "      <th>day_of_week</th>\n",
       "      <th>duration</th>\n",
       "      <th>campaign</th>\n",
       "      <th>pdays</th>\n",
       "      <th>previous</th>\n",
       "      <th>poutcome</th>\n",
       "      <th>emp_var_rate</th>\n",
       "      <th>cons_price_idx</th>\n",
       "      <th>cons_conf_idx</th>\n",
       "      <th>euribor3m</th>\n",
       "      <th>nr_employed</th>\n",
       "    </tr>\n",
       "    <tr>\n",
       "      <th>y</th>\n",
       "      <th></th>\n",
       "      <th></th>\n",
       "      <th></th>\n",
       "      <th></th>\n",
       "      <th></th>\n",
       "      <th></th>\n",
       "      <th></th>\n",
       "      <th></th>\n",
       "      <th></th>\n",
       "      <th></th>\n",
       "      <th></th>\n",
       "      <th></th>\n",
       "      <th></th>\n",
       "      <th></th>\n",
       "      <th></th>\n",
       "      <th></th>\n",
       "      <th></th>\n",
       "      <th></th>\n",
       "      <th></th>\n",
       "      <th></th>\n",
       "    </tr>\n",
       "  </thead>\n",
       "  <tbody>\n",
       "    <tr>\n",
       "      <th>0</th>\n",
       "      <td>36548</td>\n",
       "      <td>36548</td>\n",
       "      <td>36548</td>\n",
       "      <td>36548</td>\n",
       "      <td>36548</td>\n",
       "      <td>36548</td>\n",
       "      <td>36548</td>\n",
       "      <td>36548</td>\n",
       "      <td>36548</td>\n",
       "      <td>36548</td>\n",
       "      <td>36548</td>\n",
       "      <td>36548</td>\n",
       "      <td>36548</td>\n",
       "      <td>36548</td>\n",
       "      <td>36548</td>\n",
       "      <td>36548</td>\n",
       "      <td>36548</td>\n",
       "      <td>36548</td>\n",
       "      <td>36548</td>\n",
       "      <td>36548</td>\n",
       "    </tr>\n",
       "    <tr>\n",
       "      <th>1</th>\n",
       "      <td>4640</td>\n",
       "      <td>4640</td>\n",
       "      <td>4640</td>\n",
       "      <td>4640</td>\n",
       "      <td>4640</td>\n",
       "      <td>4640</td>\n",
       "      <td>4640</td>\n",
       "      <td>4640</td>\n",
       "      <td>4640</td>\n",
       "      <td>4640</td>\n",
       "      <td>4640</td>\n",
       "      <td>4640</td>\n",
       "      <td>4640</td>\n",
       "      <td>4640</td>\n",
       "      <td>4640</td>\n",
       "      <td>4640</td>\n",
       "      <td>4640</td>\n",
       "      <td>4640</td>\n",
       "      <td>4640</td>\n",
       "      <td>4640</td>\n",
       "    </tr>\n",
       "  </tbody>\n",
       "</table>\n",
       "</div>"
      ],
      "text/plain": [
       "     age    job  marital  education  default  housing   loan  contact  month  \\\n",
       "y                                                                              \n",
       "0  36548  36548    36548      36548    36548    36548  36548    36548  36548   \n",
       "1   4640   4640     4640       4640     4640     4640   4640     4640   4640   \n",
       "\n",
       "   day_of_week  duration  campaign  pdays  previous  poutcome  emp_var_rate  \\\n",
       "y                                                                             \n",
       "0        36548     36548     36548  36548     36548     36548         36548   \n",
       "1         4640      4640      4640   4640      4640      4640          4640   \n",
       "\n",
       "   cons_price_idx  cons_conf_idx  euribor3m  nr_employed  \n",
       "y                                                         \n",
       "0           36548          36548      36548        36548  \n",
       "1            4640           4640       4640         4640  "
      ]
     },
     "execution_count": 14,
     "metadata": {},
     "output_type": "execute_result"
    }
   ],
   "source": [
    "data.groupby('y').count()"
   ]
  },
  {
   "cell_type": "markdown",
   "metadata": {},
   "source": [
    "### 2- Entrainement et test du modèle\n",
    "Dans un premier lieux, nous allons utiliser comme critères de classifiction suivants:\n",
    "\"age\": l'age du client\n",
    "\"emp_var_rate\": employment variation rate\n",
    "\"cons_conf_idx\": consumer confidence index\n",
    "\n",
    "1- Creer deux numpy array X et y\n",
    "\n",
    "X: les trois colonne \"age\",\"emp_var_rate\" et \"cons_conf_idx\"\n",
    "\n",
    "y: \"y\"\n",
    "\n",
    "2- Nous allons utiliser **80%** du dataSet pour l'entrainement et **20%** pour le teste du modèle. utiliser la méthode **train_test_split()** du module **sklearn.model_selection** pour créer ces deux sous ensembles (X_train,X_test,y_train,y_test).\n",
    "\n",
    "3- Creer un objet **LogisticRegression** du module **sklearn.linear_model** et utiliser **(X_train,y_train)** pour entrainer le model à l'aide la méthode **fit()** du même objet.\n",
    "\n",
    "4- Utiliser la méthode **predict(X_test)** pour predire les classe des élément de X_test : y_pred\n",
    "\n",
    "5- Les performences du modele sont alors mesurer à l'aide 4 metriques:\n",
    "**TP: Nombre de True positives y_test==y_pred==1**\n",
    "\n",
    "**TN: Nombre de True negatives y_test==y_pred==0**\n",
    "\n",
    "**FP: Nombre de False positives y_test!=y_pred==1**\n",
    "\n",
    "**FN: Nombre de False negatives y_test!=y_pred==0**\n",
    "\n",
    "\n",
    "**$$Accuracy = (TP+TN)/(TP+TN+FP+FN) $$**\n",
    "\n",
    "Calculer la precision de ce modèle?\n",
    "\n",
    "6- Ces 4 metriques forment ce qu'on appel une **Confusion Matrix** disponible comme méthode dans le module **sklearn.metrics** :  **Confusion Matrix(y_test, y_pred)**\n",
    "\n",
    "Recalculer precision de ce modèle on utilisant cette matrice de confusion"
   ]
  },
  {
   "cell_type": "code",
   "execution_count": 15,
   "metadata": {},
   "outputs": [],
   "source": [
    "from sklearn.model_selection import train_test_split\n",
    "from sklearn.linear_model import LogisticRegression\n",
    "from sklearn.metrics import confusion_matrix"
   ]
  },
  {
   "cell_type": "code",
   "execution_count": 25,
   "metadata": {},
   "outputs": [
    {
     "name": "stdout",
     "output_type": "stream",
     "text": [
      "(41188,)\n"
     ]
    }
   ],
   "source": [
    "X = data[[\"age\",\"emp_var_rate\",\"cons_conf_idx\"]]\n",
    "y = data['y']\n",
    "print(y.shape)\n",
    "X_train,X_test,y_train,y_test = train_test_split(X,y, test_size=0.2)\n",
    "\n",
    "logistic_model = LogisticRegression()\n",
    "logistic_model.fit(X_train, y_train)\n",
    "y_pred = logistic_model.predict(X_test)"
   ]
  },
  {
   "cell_type": "code",
   "execution_count": 23,
   "metadata": {},
   "outputs": [
    {
     "data": {
      "text/plain": [
       "28234     True\n",
       "1135      True\n",
       "34346     True\n",
       "573       True\n",
       "40949     True\n",
       "         ...  \n",
       "7536      True\n",
       "34777     True\n",
       "3201      True\n",
       "1084     False\n",
       "23704     True\n",
       "Name: y, Length: 8238, dtype: bool"
      ]
     },
     "execution_count": 23,
     "metadata": {},
     "output_type": "execute_result"
    }
   ],
   "source": [
    "y_test == y_pred"
   ]
  },
  {
   "cell_type": "code",
   "execution_count": 17,
   "metadata": {},
   "outputs": [
    {
     "name": "stdout",
     "output_type": "stream",
     "text": [
      "accurancy = 0.5\n"
     ]
    }
   ],
   "source": [
    "def accurancy(y_test, y_pred):\n",
    "    T = y_pred == y_test\n",
    "    F = y_pred != y_test\n",
    "    TP, TN = np.sum(T==1), np.sum(T==0)\n",
    "    FP, FN = np.sum(F==1), np.sum(F==0)\n",
    "    return (TP + TN) / (TP+TN+FP+FN)\n",
    "\n",
    "print('accurancy =',accurancy(y_test, y_pred))"
   ]
  },
  {
   "cell_type": "code",
   "execution_count": 18,
   "metadata": {},
   "outputs": [
    {
     "name": "stdout",
     "output_type": "stream",
     "text": [
      "[[7277   79]\n",
      " [ 824   58]]\n"
     ]
    },
    {
     "data": {
      "text/plain": [
       "<AxesSubplot:>"
      ]
     },
     "execution_count": 18,
     "metadata": {},
     "output_type": "execute_result"
    },
    {
     "data": {
      "image/png": "[encoded data removed]",
      "text/plain": [
       "<Figure size 432x288 with 2 Axes>"
      ]
     },
     "metadata": {
      "needs_background": "light"
     },
     "output_type": "display_data"
    }
   ],
   "source": [
    "acc = confusion_matrix(y_test, y_pred)\n",
    "print(acc)\n",
    "sns.heatmap(acc, annot=True)"
   ]
  },
  {
   "cell_type": "code",
   "execution_count": 28,
   "metadata": {},
   "outputs": [
    {
     "name": "stdout",
     "output_type": "stream",
     "text": [
      "accurancy = 0.8903860160233066\n"
     ]
    }
   ],
   "source": [
    "accurancy = (acc[0,0]+acc[1,1])  / np.sum(acc)\n",
    "print('accurancy =', accurancy)"
   ]
  },
  {
   "cell_type": "markdown",
   "metadata": {},
   "source": [
    "### 3- prediction\n",
    "Voici des information de trois clients:\n",
    "\n",
    "client1:  {\"age\": 55, \"emp_var_rate\": -2.9, \"cons_conf_idx\": 31.4}\n",
    "\n",
    "client2:  {\"age\": 45, \"emp_var_rate\": 3.7,\"cons_conf_idx\": 4}\n",
    "\n",
    "client3:  {\"age\": 39, \"emp_var_rate\": 3.3,\"cons_conf_idx\": 6}\n",
    "\n",
    "1- Créer un DataFrame à partir de ce données\n",
    "\n",
    "2- Lequel de ces client souscrira à un dépôt à terme"
   ]
  },
  {
   "cell_type": "code",
   "execution_count": 20,
   "metadata": {},
   "outputs": [
    {
     "data": {
      "text/html": [
       "<div>\n",
       "<style scoped>\n",
       "    .dataframe tbody tr th:only-of-type {\n",
       "        vertical-align: middle;\n",
       "    }\n",
       "\n",
       "    .dataframe tbody tr th {\n",
       "        vertical-align: top;\n",
       "    }\n",
       "\n",
       "    .dataframe thead th {\n",
       "        text-align: right;\n",
       "    }\n",
       "</style>\n",
       "<table border=\"1\" class=\"dataframe\">\n",
       "  <thead>\n",
       "    <tr style=\"text-align: right;\">\n",
       "      <th></th>\n",
       "      <th>age</th>\n",
       "      <th>emp_var_rate</th>\n",
       "      <th>cons_conf_idx</th>\n",
       "    </tr>\n",
       "  </thead>\n",
       "  <tbody>\n",
       "    <tr>\n",
       "      <th>0</th>\n",
       "      <td>55</td>\n",
       "      <td>-2.9</td>\n",
       "      <td>31.4</td>\n",
       "    </tr>\n",
       "    <tr>\n",
       "      <th>1</th>\n",
       "      <td>45</td>\n",
       "      <td>3.7</td>\n",
       "      <td>4.0</td>\n",
       "    </tr>\n",
       "    <tr>\n",
       "      <th>2</th>\n",
       "      <td>39</td>\n",
       "      <td>3.3</td>\n",
       "      <td>6.0</td>\n",
       "    </tr>\n",
       "  </tbody>\n",
       "</table>\n",
       "</div>"
      ],
      "text/plain": [
       "   age  emp_var_rate  cons_conf_idx\n",
       "0   55          -2.9           31.4\n",
       "1   45           3.7            4.0\n",
       "2   39           3.3            6.0"
      ]
     },
     "execution_count": 20,
     "metadata": {},
     "output_type": "execute_result"
    }
   ],
   "source": [
    "client1 = {\"age\": 55, \"emp_var_rate\": -2.9, \"cons_conf_idx\": 31.4}\n",
    "\n",
    "client2 = {\"age\": 45, \"emp_var_rate\": 3.7,\"cons_conf_idx\": 4}\n",
    "\n",
    "client3 = {\"age\": 39, \"emp_var_rate\": 3.3,\"cons_conf_idx\": 6}\n",
    "\n",
    "df = pd.DataFrame([client1,client2,client3])\n",
    "df"
   ]
  },
  {
   "cell_type": "code",
   "execution_count": 21,
   "metadata": {},
   "outputs": [
    {
     "name": "stdout",
     "output_type": "stream",
     "text": [
      "- predictions: [1 0 0]\n",
      "- le client 1 peut souscrira a un depot a terme.\n"
     ]
    }
   ],
   "source": [
    "pred = logistic_model.predict(df)\n",
    "print('- predictions:', pred)\n",
    "\n",
    "for i in pred:\n",
    "    if i==1:\n",
    "        print(f\"- le client {i} peut souscrira a un depot a terme.\")"
   ]
  },
  {
   "cell_type": "markdown",
   "metadata": {},
   "source": [
    "# "
   ]
  }
 ],
 "metadata": {
  "kernelspec": {
   "display_name": "Python 3 (ipykernel)",
   "language": "python",
   "name": "python3"
  },
  "language_info": {
   "codemirror_mode": {
    "name": "ipython",
    "version": 3
   },
   "file_extension": ".py",
   "mimetype": "text/x-python",
   "name": "python",
   "nbconvert_exporter": "python",
   "pygments_lexer": "ipython3",
   "version": "3.9.7"
  }
 },
 "nbformat": 4,
 "nbformat_minor": 4
}
