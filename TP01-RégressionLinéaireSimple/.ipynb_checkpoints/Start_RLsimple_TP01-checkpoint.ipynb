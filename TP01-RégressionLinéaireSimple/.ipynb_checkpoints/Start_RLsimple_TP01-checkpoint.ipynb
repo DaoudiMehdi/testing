{
 "cells": [
  {
   "cell_type": "markdown",
   "metadata": {},
   "source": [
    "# TP1: Régression Linéaire simple\n",
    " "
   ]
  },
  {
   "cell_type": "markdown",
   "metadata": {},
   "source": [
    "La régression linéaire simple est un algorithme prédictif supervisé. Il prend en entrée une variable prédictive x et va essayer de trouver une fonction de prédiction  $h_\\theta(x)$ étant une droite, elle s’écrira mathématiquement sous la forme :\n",
    "$$ h_\\theta(x)=\\theta_0+\\theta_1 x$$\n",
    " Avec $ \\theta_0$ et $ \\theta_1$ sont les coefficients de la droite."
   ]
  },
  {
   "cell_type": "markdown",
   "metadata": {},
   "source": [
    "Le but  revient à trouver un couple $(\\theta_0,\\theta_1)$ optimal tel que $h_\\theta(x)$ soit le plus proche possible de $y$ (la valeur qu’on essaie de prédire). Et ce, pour tous les couples $(x,y)$ qui forment notre ensemble de données d’apprentissage $ \\{ (x_{i},y_{i}) \\in R^{2}, i=1...n \\}$.\n",
    " La fonction $h_\\theta$ va essayer de transformer au mieux  $x_i$ en $y_i$ tel que  $$ h_\\theta(x_i)\\approx y_i  \\forall i \\in \\{1 ... n\\}$$\n",
    " <img src=\"1.png\" style=\"with:100px;height:200px\"/>"
   ]
  },
  {
   "cell_type": "markdown",
   "metadata": {},
   "source": [
    "## A- Methode1:Moindres carrés"
   ]
  },
  {
   "cell_type": "markdown",
   "metadata": {},
   "source": [
    "Dans le cas d'une régression lineaire simple nous avons la solution directe suivante:\n",
    "$$\\theta_{1}=\\frac{\\sum_{i=0}^{m}x_{i}y_{i}-m\\overline{x}\\overline{y}}{\\sum_{i=0}^{m}x_{i}^2-m\\overline{x}^2} $$\n",
    "\n",
    "$$\\theta_{0}=\\overline{y}-\\theta_{1}\\overline{x}$$\n",
    "\n",
    "Où $\\overline{x}$ est la moyenne des éléments de x et $\\overline{y}$ est la moyenne des éléments de y\n",
    "\n",
    "## Question1\n",
    "-L'étude d'un marché présente des quantités offertes (X) et des prix d'achat (Y) (en dhs)  a donné les résultats suivants;\t\n",
    " <img src=\"2.png\" style=\"with:30px;height:60px\"/>\n",
    " a-En utilisant numpy afficher X et Y"
   ]
  },
  {
   "cell_type": "code",
   "execution_count": 2,
   "metadata": {},
   "outputs": [],
   "source": [
    "import numpy as np"
   ]
  },
  {
   "cell_type": "code",
   "execution_count": 23,
   "metadata": {},
   "outputs": [],
   "source": [
    "X=np.array([2,4,14,8,12])\n",
    "\n",
    "Y=np.array([10,8,2,6,4])\n"
   ]
  },
  {
   "cell_type": "markdown",
   "metadata": {},
   "source": [
    "b-Ecrire un script qui calcule les valeur de $\\theta_{0}$, $\\theta_{1}$ "
   ]
  },
  {
   "cell_type": "code",
   "execution_count": 76,
   "metadata": {},
   "outputs": [
    {
     "data": {
      "text/plain": [
       "-0.6153846153846154"
      ]
     },
     "execution_count": 76,
     "metadata": {},
     "output_type": "execute_result"
    }
   ],
   "source": [
    "lbast=np.sum(X*Y)-(len(X)*np.mean(X)*np.mean(Y))\n",
    "lma9am=np.sum(X*X)-(len(X)*np.mean(X)**2)\n",
    "teta1=lbast/lma9am\n",
    "teta1"
   ]
  },
  {
   "cell_type": "code",
   "execution_count": 39,
   "metadata": {},
   "outputs": [
    {
     "data": {
      "text/plain": [
       "10.923076923076923"
      ]
     },
     "execution_count": 39,
     "metadata": {},
     "output_type": "execute_result"
    }
   ],
   "source": [
    "teta0=np.mean(Y)-teta1*(np.mean(X))\n",
    "teta0"
   ]
  },
  {
   "cell_type": "markdown",
   "metadata": {},
   "source": [
    "c-Déterminer la fonction de prédiction $ h_\\theta(x)=\\theta_0+\\theta_1 x$"
   ]
  },
  {
   "cell_type": "code",
   "execution_count": 37,
   "metadata": {},
   "outputs": [
    {
     "data": {
      "text/plain": [
       "array([9.69230769, 8.46153846, 2.30769231, 6.        , 3.53846154])"
      ]
     },
     "execution_count": 37,
     "metadata": {},
     "output_type": "execute_result"
    }
   ],
   "source": [
    "def h(teta0,teta1,X):\n",
    "    return teta0+teta1*X"
   ]
  },
  {
   "cell_type": "markdown",
   "metadata": {},
   "source": [
    "  d-Quelle prix d'achat peut-on prévoir avec un prix d'achat de x=10"
   ]
  },
  {
   "cell_type": "code",
   "execution_count": 40,
   "metadata": {},
   "outputs": [
    {
     "data": {
      "text/plain": [
       "4.769230769230769"
      ]
     },
     "execution_count": 40,
     "metadata": {},
     "output_type": "execute_result"
    }
   ],
   "source": [
    "h(teta0,teta1,10)"
   ]
  },
  {
   "cell_type": "markdown",
   "metadata": {},
   "source": [
    "e-visualiser les résultats "
   ]
  },
  {
   "cell_type": "code",
   "execution_count": 47,
   "metadata": {},
   "outputs": [
    {
     "data": {
      "image/png": "[encoded data removed]",
      "text/plain": [
       "<Figure size 432x288 with 1 Axes>"
      ]
     },
     "metadata": {
      "needs_background": "light"
     },
     "output_type": "display_data"
    }
   ],
   "source": [
    "import matplotlib.pyplot as plt\n",
    "plt.scatter(X,Y)\n",
    "plt.plot(X ,h(teta0,teta1,X))\n",
    "plt.show()"
   ]
  },
  {
   "cell_type": "markdown",
   "metadata": {},
   "source": [
    "f-Déterminer le coefficient de determination $R^2=1-\\frac{\\sum_{i=0}^{m}(y_{i}-h_\\theta(x_{i}))^2}{\\sum_{i=0}^{m}(y_{i}-\\overline{y})^2}$ et le coefficient de coerrélation $R=\\frac{cov(X,Y)}{\\sigma(x)\\sigma(y)}=\\frac{\\sum_{i=0}^{m}x_{i}y_{i}-m\\overline{x}\\overline{y}}{\\sqrt{\\sum_{i=0}^{m} (x_{i}^2-m\\overline{x}^2 ) (\\sum_{i=0}^{m}x_{i}^2-m\\overline{x}^2)}}$"
   ]
  },
  {
   "cell_type": "code",
   "execution_count": 92,
   "metadata": {},
   "outputs": [],
   "source": [
    "#from math import sqrt\n",
    "#def RR(X,Y):\n",
    "    #lbast1=np.sum((Y-h(teta0,teta1,X))**2)\n",
    "    #lma9am1=np.sum((Y-np.mean(Y))**2)\n",
    "    #return 1-(lbast1/lma9am1)\n"
   ]
  },
  {
   "cell_type": "code",
   "execution_count": 109,
   "metadata": {},
   "outputs": [],
   "source": [
    "def R(X,Y,lbast):\n",
    "    lma9am1=np.sqrt((np.sum(X**2)-len(X)*np.mean(X)**2)*(np.sum(Y**2)-len(X)*np.mean(Y)**2))\n",
    "    return lbast/lma9am1\n",
    "    "
   ]
  },
  {
   "cell_type": "code",
   "execution_count": 110,
   "metadata": {},
   "outputs": [],
   "source": [
    "R_=R(X,Y,lbast)"
   ]
  },
  {
   "cell_type": "code",
   "execution_count": 111,
   "metadata": {},
   "outputs": [
    {
     "data": {
      "text/plain": [
       "-0.9922778767136677"
      ]
     },
     "execution_count": 111,
     "metadata": {},
     "output_type": "execute_result"
    }
   ],
   "source": [
    "R_"
   ]
  },
  {
   "cell_type": "code",
   "execution_count": 114,
   "metadata": {},
   "outputs": [
    {
     "data": {
      "text/plain": [
       "0.9846153846153848"
      ]
     },
     "execution_count": 114,
     "metadata": {},
     "output_type": "execute_result"
    }
   ],
   "source": [
    "RR=R_**2\n",
    "RR"
   ]
  },
  {
   "cell_type": "markdown",
   "metadata": {},
   "source": [
    "$R$ est proche de -1, donc on a une corrélation négative assez forte entre $X$ et $Y$.   ( si le prix augmente la quantité diminue).\n",
    "Graphiquement, le nuage de points est sous forme d'une courbe décroissante linéaire ce qui confirme la liaison assez forte négativement.\n"
   ]
  },
  {
   "cell_type": "markdown",
   "metadata": {},
   "source": [
    "## B-Utilisation de la méthode linregress"
   ]
  },
  {
   "cell_type": "markdown",
   "metadata": {},
   "source": [
    "On peut utiliser le module librairie SciPy (Scientific Python) pour implémenter une régression linéaire. Le sous package stats propose la fonction linregress qui calcul une régression à partir d'un jeu de donnée d'entrainement"
   ]
  },
  {
   "cell_type": "markdown",
   "metadata": {},
   "source": [
    "1-Ecrire un script Ecrire un script qui calcule les valeur de $\\theta_{0}$, $\\theta_{1}$ en utilisant linregress et les données X et Y de la question précédente"
   ]
  },
  {
   "cell_type": "code",
   "execution_count": 119,
   "metadata": {},
   "outputs": [],
   "source": [
    "import matplotlib.pyplot as plt\n",
    "from scipy.stats import linregress\n",
    "\n",
    "X=np.array([2,4,14,8,12])\n",
    "\n",
    "Y=np.array([10,8,2,6,4])\n",
    "\n",
    "t1,t0,r,p_value,std_r= linregress(X, Y)\n",
    "\n",
    "predections = t1* X + t0\n",
    "\n"
   ]
  },
  {
   "cell_type": "code",
   "execution_count": 120,
   "metadata": {},
   "outputs": [
    {
     "data": {
      "image/png": "[encoded data removed]",
      "text/plain": [
       "<Figure size 432x288 with 1 Axes>"
      ]
     },
     "metadata": {
      "needs_background": "light"
     },
     "output_type": "display_data"
    }
   ],
   "source": [
    "import matplotlib.pyplot as plt\n",
    "plt.scatter(X,Y)\n",
    "plt.plot(X ,predections)\n",
    "plt.show()"
   ]
  },
  {
   "cell_type": "markdown",
   "metadata": {},
   "source": [
    "2- En utilisant la méthode linregress, calculer les valeur de $\\theta_{0}$, $\\theta_{1}$ pour les données du fichier \"linear_regression_dataset.csv\" (utiliser pondas pour afficher les données)"
   ]
  },
  {
   "cell_type": "code",
   "execution_count": 125,
   "metadata": {},
   "outputs": [],
   "source": [
    "import pandas as pd\n",
    "df = pd.read_csv(\"dataset.csv\")\n",
    "X=df.iloc[:,0]\n",
    "Y=df.iloc[:,1]\n",
    "\n",
    "\n"
   ]
  },
  {
   "cell_type": "code",
   "execution_count": 127,
   "metadata": {},
   "outputs": [],
   "source": [
    "t1,t0,r,p_value,std_r= linregress(X, Y)"
   ]
  },
  {
   "cell_type": "markdown",
   "metadata": {},
   "source": [
    "#### Prédiction d'une nouvelle observation\n",
    " Utilisons la fonction de prédiction pour trouver une estimation de  $h_\\theta(x=22.5)$"
   ]
  },
  {
   "cell_type": "code",
   "execution_count": 130,
   "metadata": {},
   "outputs": [
    {
     "data": {
      "text/plain": [
       "23.09330920751398"
      ]
     },
     "execution_count": 130,
     "metadata": {},
     "output_type": "execute_result"
    }
   ],
   "source": [
    "prediction =t1*22.5+t0\n",
    "prediction"
   ]
  },
  {
   "cell_type": "markdown",
   "metadata": {},
   "source": [
    "# C-Méthode de la descente\n",
    "\n",
    " Pour minimiser le coût $$ J(\\theta_{0},\\theta_{1})=\\frac{1}{2m}\\sum_{i=0}^{m}(h(x_{i})-y_{i})^{2} = \\frac{1}{2m}\\sum_{i=0}^{m}(\\theta_{0}+ \\theta_{1}x_{i}-y_{i})^{2} $$\n",
    "On utilise la methode de la descente du gradient. Il faut donc calculer la dérivée de $J(\\theta_{0},\\theta_{1})$ par rapport à $\\theta_{0}$ et par rapport à $\\theta_{1}$ nous avons alors:\n",
    "$$ \\frac{\\delta J(\\theta_{0},\\theta_{1})}{\\delta \\theta_{0}}=\\frac{1}{m}\\sum_{i=0}^{m}(\\theta_{0}+ \\theta_{1}x_{i}-y_{i}) $$\n",
    "\n",
    "$$ \\frac{\\delta J(\\theta_{0},\\theta_{1})}{\\delta \\theta_{1}}=\\frac{1}{m}\\sum_{i=0}^{m}(\\theta_{0}+ \\theta_{1}x_{i}-y_{i})x_{i} $$\n",
    "La mise à jour des coeficients sera comme suivant:\n",
    "$$ \\theta_{0}\\leftarrow \\theta_{0}- \\alpha\\frac{\\delta J(\\theta_{0},\\theta_{1})}{\\delta \\theta_{0}}$$\n",
    "$$ \\theta_{1}\\leftarrow \\theta_{1}- \\alpha\\frac{\\delta J(\\theta_{0},\\theta_{1})}{\\delta \\theta_{1}}$$\n",
    "\n",
    "$\\alpha$: learning rate\n",
    "\n",
    "L'algorithme sous forme matricielle est le suivant\n",
    "\n",
    " <img src=\"18.png\" style=\"with:140px;height:260px\"/>"
   ]
  },
  {
   "cell_type": "markdown",
   "metadata": {},
   "source": [
    "## 1-Datasets\n",
    "1-Générer de données aléatoires avec une tendance linéaire avec make_regression: on a un dataset  qui contient 100 exemples, et une seule variable . Note: chaque fois que la cellule est executée, des données différentes sont générer. Utiliser np.random.seed(0) pour reproduire le meme Dataset a chaque fois."
   ]
  },
  {
   "cell_type": "code",
   "execution_count": 267,
   "metadata": {},
   "outputs": [
    {
     "data": {
      "text/plain": [
       "<matplotlib.collections.PathCollection at 0x1a1915c88e0>"
      ]
     },
     "execution_count": 267,
     "metadata": {},
     "output_type": "execute_result"
    },
    {
     "data": {
      "image/png": "[encoded data removed]",
      "text/plain": [
       "<Figure size 432x288 with 1 Axes>"
      ]
     },
     "metadata": {
      "needs_background": "light"
     },
     "output_type": "display_data"
    }
   ],
   "source": [
    "from sklearn.datasets import make_regression\n",
    "np.random.seed(0)\n",
    "x,y=make_regression(n_samples=100, n_features=1, noise=10)\n",
    "plt.scatter(x,y)"
   ]
  },
  {
   "cell_type": "markdown",
   "metadata": {},
   "source": [
    "Important: vérifier les dimensions de x et y. On remarque que y n'a pas les dimensions (100, 1). On corrige le probleme avec np.reshape"
   ]
  },
  {
   "cell_type": "code",
   "execution_count": 268,
   "metadata": {},
   "outputs": [
    {
     "data": {
      "text/plain": [
       "array([[-0.35955316],\n",
       "       [ 0.97663904],\n",
       "       [ 0.40234164],\n",
       "       [-0.81314628],\n",
       "       [-0.88778575],\n",
       "       [ 0.44386323],\n",
       "       [-0.97727788],\n",
       "       [ 0.42833187],\n",
       "       [ 0.20827498],\n",
       "       [-0.31155253],\n",
       "       [-0.51080514],\n",
       "       [ 0.12691209],\n",
       "       [-1.53624369],\n",
       "       [-0.40178094],\n",
       "       [ 0.6536186 ],\n",
       "       [ 1.17877957],\n",
       "       [-0.17992484],\n",
       "       [ 1.78587049],\n",
       "       [ 1.45427351],\n",
       "       [-0.68481009],\n",
       "       [ 0.97873798],\n",
       "       [ 1.89588918],\n",
       "       [-0.4380743 ],\n",
       "       [ 0.3130677 ],\n",
       "       [ 0.76103773],\n",
       "       [ 0.77749036],\n",
       "       [ 1.9507754 ],\n",
       "       [ 0.33367433],\n",
       "       [-0.34791215],\n",
       "       [ 1.53277921],\n",
       "       [-0.89546656],\n",
       "       [-0.57884966],\n",
       "       [-1.04855297],\n",
       "       [ 0.37816252],\n",
       "       [ 0.01050002],\n",
       "       [ 0.46278226],\n",
       "       [ 0.14404357],\n",
       "       [-0.40317695],\n",
       "       [ 0.0519454 ],\n",
       "       [-1.25279536],\n",
       "       [ 1.05445173],\n",
       "       [ 0.40015721],\n",
       "       [-1.70627019],\n",
       "       [ 2.2408932 ],\n",
       "       [ 0.17742614],\n",
       "       [-0.20515826],\n",
       "       [ 1.23029068],\n",
       "       [-0.85409574],\n",
       "       [ 1.76405235],\n",
       "       [ 0.4105985 ],\n",
       "       [-0.90729836],\n",
       "       [-1.42001794],\n",
       "       [ 0.46566244],\n",
       "       [ 0.90082649],\n",
       "       [ 1.13940068],\n",
       "       [ 0.40198936],\n",
       "       [ 0.3869025 ],\n",
       "       [-1.7262826 ],\n",
       "       [ 1.46935877],\n",
       "       [-0.18718385],\n",
       "       [-0.87079715],\n",
       "       [ 0.3024719 ],\n",
       "       [ 1.20237985],\n",
       "       [-1.98079647],\n",
       "       [-2.55298982],\n",
       "       [-1.45436567],\n",
       "       [-0.02818223],\n",
       "       [ 0.15494743],\n",
       "       [ 1.22244507],\n",
       "       [ 1.86755799],\n",
       "       [ 2.26975462],\n",
       "       [-0.74216502],\n",
       "       [ 0.06651722],\n",
       "       [ 1.49407907],\n",
       "       [-0.67246045],\n",
       "       [-1.63019835],\n",
       "       [ 0.12898291],\n",
       "       [ 0.95008842],\n",
       "       [ 1.48825219],\n",
       "       [ 0.05616534],\n",
       "       [ 0.8644362 ],\n",
       "       [ 0.70657317],\n",
       "       [-0.15135721],\n",
       "       [-1.07075262],\n",
       "       [-0.10321885],\n",
       "       [-0.30230275],\n",
       "       [-0.38732682],\n",
       "       [ 0.72909056],\n",
       "       [ 0.12167502],\n",
       "       [-0.50965218],\n",
       "       [-1.23482582],\n",
       "       [-0.21274028],\n",
       "       [-0.63432209],\n",
       "       [ 0.15634897],\n",
       "       [ 0.04575852],\n",
       "       [-1.16514984],\n",
       "       [-0.36274117],\n",
       "       [ 0.3563664 ],\n",
       "       [-1.61389785],\n",
       "       [-1.18063218]])"
      ]
     },
     "execution_count": 268,
     "metadata": {},
     "output_type": "execute_result"
    }
   ],
   "source": [
    "\n",
    "\n",
    "y=y.reshape(100,1)\n",
    "x"
   ]
  },
  {
   "cell_type": "markdown",
   "metadata": {},
   "source": [
    "2-Créez la matrice X. \n",
    "\n",
    "\n"
   ]
  },
  {
   "cell_type": "code",
   "execution_count": 269,
   "metadata": {},
   "outputs": [],
   "source": [
    "X = np.hstack((x, np.ones(x.shape)))\n",
    "\n"
   ]
  },
  {
   "cell_type": "code",
   "execution_count": null,
   "metadata": {},
   "outputs": [],
   "source": []
  },
  {
   "cell_type": "markdown",
   "metadata": {},
   "source": [
    "3-Créez le vecteur $\\theta$ (initialisé avec des coefficients aléatoires)."
   ]
  },
  {
   "cell_type": "code",
   "execution_count": 270,
   "metadata": {},
   "outputs": [
    {
     "data": {
      "text/plain": [
       "array([[1.76405235],\n",
       "       [0.40015721]])"
      ]
     },
     "execution_count": 270,
     "metadata": {},
     "output_type": "execute_result"
    }
   ],
   "source": [
    "np.random.seed(0)\n",
    "\n",
    "theta = np.random.randn(2,1)\n",
    "theta"
   ]
  },
  {
   "cell_type": "markdown",
   "metadata": {},
   "source": [
    "# 2- Modele Linéaire de prédiction \n",
    "Implémenter le modèle de prédiction $ H_\\theta=X.\\theta$"
   ]
  },
  {
   "cell_type": "code",
   "execution_count": 271,
   "metadata": {},
   "outputs": [],
   "source": [
    "def model(X,theta):\n",
    "    return X.dot(theta)\n",
    "#model(X,theta)"
   ]
  },
  {
   "cell_type": "code",
   "execution_count": 272,
   "metadata": {},
   "outputs": [
    {
     "data": {
      "text/plain": [
       "(100, 1)"
      ]
     },
     "execution_count": 272,
     "metadata": {},
     "output_type": "execute_result"
    }
   ],
   "source": [
    "#X.shape\n",
    "Y.shape"
   ]
  },
  {
   "cell_type": "code",
   "execution_count": 273,
   "metadata": {},
   "outputs": [
    {
     "data": {
      "text/plain": [
       "[<matplotlib.lines.Line2D at 0x1a191631370>]"
      ]
     },
     "execution_count": 273,
     "metadata": {},
     "output_type": "execute_result"
    },
    {
     "data": {
      "image/png": "[encoded data removed]",
      "text/plain": [
       "<Figure size 432x288 with 1 Axes>"
      ]
     },
     "metadata": {
      "needs_background": "light"
     },
     "output_type": "display_data"
    }
   ],
   "source": [
    "plt.scatter(x,y)\n",
    "plt.plot(x,model(X,theta))"
   ]
  },
  {
   "cell_type": "markdown",
   "metadata": {},
   "source": [
    "# 3- Fonction Cout \n",
    "Ecrire un script qui définit la fonction cout $$ J(\\theta)=\\frac{1}{2m}\\sum(X.\\theta-Y)^{2}$$"
   ]
  },
  {
   "cell_type": "code",
   "execution_count": 274,
   "metadata": {},
   "outputs": [],
   "source": [
    "def fonction_cout(X,theta,y):\n",
    "    m = len(y)\n",
    "    return 1/(2*m) * np.sum((model(X, theta) - y)**2)"
   ]
  },
  {
   "cell_type": "code",
   "execution_count": 275,
   "metadata": {},
   "outputs": [
    {
     "data": {
      "text/plain": [
       "905.6306841935502"
      ]
     },
     "execution_count": 275,
     "metadata": {},
     "output_type": "execute_result"
    }
   ],
   "source": [
    "fonction_cout(X,theta,y)"
   ]
  },
  {
   "cell_type": "markdown",
   "metadata": {},
   "source": [
    "# 4- Gradients et Descente de Gradient \n",
    "1-Ecrire un script qui définit la fonction du gradiant $$ \\frac{\\delta J(\\theta)}{\\delta \\theta}=\\frac{1}{m}X^T.(X.\\theta-y)$$\n",
    " "
   ]
  },
  {
   "cell_type": "code",
   "execution_count": 276,
   "metadata": {},
   "outputs": [
    {
     "data": {
      "text/plain": [
       "array([[-41.57549288],\n",
       "       [ -1.22914004]])"
      ]
     },
     "execution_count": 276,
     "metadata": {},
     "output_type": "execute_result"
    }
   ],
   "source": [
    "def gardiant(X,theta,y):\n",
    "    m=len(X)\n",
    "    return (1/m)*(X.T.dot(X.dot(theta)-y))\n",
    "gardiant(X,theta,y)"
   ]
  },
  {
   "cell_type": "markdown",
   "metadata": {},
   "source": [
    "2-Implementer la descente de gradient en utilisant de gradiant:\n",
    "$$ \\theta\\leftarrow \\theta- \\alpha\\frac{\\delta J(\\theta)}{\\delta \\theta}$$"
   ]
  },
  {
   "cell_type": "code",
   "execution_count": 287,
   "metadata": {},
   "outputs": [],
   "source": [
    "#def gardient_descent(theta,alpha,n_itiration,X,y):\n",
    "    #cost_hist=np.zeros(n_itiration)\n",
    "    #for i in range(0,n_itiration):\n",
    "    #    theta=theta-alpha*gardiant(X,theta,y)\n",
    "    #    cost_hist[i]=fonction_cout(X,theta,y)\n",
    "    #return theta , cost_hist\n",
    "\n",
    "def gradiant_descent(X,y,theta,learning_rate,n_iterations):\n",
    "    cost_history = np.zeros(n_iterations)\n",
    "    for i in range(0,n_iterations):\n",
    "        theta=theta-learning_rate*gardiant(X,theta,y)\n",
    "        cost_history[i] = fonction_cout(X,theta,y)\n",
    "        \n",
    "    return theta, cost_history \n",
    "\n"
   ]
  },
  {
   "cell_type": "markdown",
   "metadata": {},
   "source": [
    "# 5-Calcul des parametres $\\theta_1$ et  $\\theta_0$\n",
    "  1-On définit un nombre d'itérations de $1000$ , ainsi $\\alpha=0.01$,calculer $\\theta_1$ et  $\\theta_0$\n",
    " \n",
    " "
   ]
  },
  {
   "cell_type": "code",
   "execution_count": 288,
   "metadata": {},
   "outputs": [
    {
     "data": {
      "text/plain": [
       "array([[42.61943029],\n",
       "       [-0.81418183]])"
      ]
     },
     "execution_count": 288,
     "metadata": {},
     "output_type": "execute_result"
    }
   ],
   "source": [
    "theta , cost_hist=gradiant_descent(X,y,theta,0.01,1000)\n",
    "\n",
    "theta"
   ]
  },
  {
   "cell_type": "markdown",
   "metadata": {},
   "source": [
    "2-Créer d'un vecteur prédictions qui contient les prédictions de notre modele final"
   ]
  },
  {
   "cell_type": "code",
   "execution_count": 289,
   "metadata": {},
   "outputs": [],
   "source": [
    "pred=model(X,theta)\n"
   ]
  },
  {
   "cell_type": "markdown",
   "metadata": {},
   "source": [
    "3-Afficher les résultats de prédictions par rapport a notre Dataset"
   ]
  },
  {
   "cell_type": "code",
   "execution_count": 290,
   "metadata": {},
   "outputs": [
    {
     "data": {
      "text/plain": [
       "[<matplotlib.lines.Line2D at 0x1a1928dd340>]"
      ]
     },
     "execution_count": 290,
     "metadata": {},
     "output_type": "execute_result"
    },
    {
     "data": {
      "image/png": "[encoded data removed]",
      "text/plain": [
       "<Figure size 432x288 with 1 Axes>"
      ]
     },
     "metadata": {
      "needs_background": "light"
     },
     "output_type": "display_data"
    }
   ],
   "source": [
    "plt.scatter(x,y)\n",
    "plt.plot(x,model(X,theta),c='r')"
   ]
  },
  {
   "cell_type": "markdown",
   "metadata": {},
   "source": [
    " # 5. Courbes d'apprentissage\n",
    " vérifier si notre algorithme de Descente de gradient a bien fonctionné, on observe l'évolution de la fonction cout a travers les itérations. On est sensé obtenir une courbe qui diminue a chaque itération jusqu'a stagner a un niveau minimal (proche de zéro). Si la courbe ne suit pas ce motif, alors le pas learning_rate est peut-etre trop élevé, il faut prendre un pas plus faible."
   ]
  },
  {
   "cell_type": "code",
   "execution_count": 293,
   "metadata": {},
   "outputs": [
    {
     "data": {
      "text/plain": [
       "array([[42.61943029],\n",
       "       [-0.81418183]])"
      ]
     },
     "execution_count": 293,
     "metadata": {},
     "output_type": "execute_result"
    },
    {
     "data": {
      "image/png": "[encoded data removed]",
      "text/plain": [
       "<Figure size 432x288 with 1 Axes>"
      ]
     },
     "metadata": {
      "needs_background": "light"
     },
     "output_type": "display_data"
    }
   ],
   "source": [
    "theta_final, cost_history=gradiant_descent(X,y,theta, learning_rate=0.01,n_iterations=1000)\n",
    "\n",
    "plt.plot(range(1000), cost_history,label=\"alpa=0.01\")\n",
    "theta"
   ]
  },
  {
   "cell_type": "markdown",
   "metadata": {},
   "source": [
    "# 7-Evaluation finale\n",
    "Utiliser le coefficient de détermination pour évaluer la réelle performance. "
   ]
  },
  {
   "cell_type": "code",
   "execution_count": null,
   "metadata": {},
   "outputs": [],
   "source": []
  },
  {
   "cell_type": "markdown",
   "metadata": {},
   "source": [
    "Plus le résultat est proche de 1, meilleur est votre modele"
   ]
  },
  {
   "cell_type": "code",
   "execution_count": null,
   "metadata": {},
   "outputs": [],
   "source": []
  }
 ],
 "metadata": {
  "kernelspec": {
   "display_name": "Python 3 (ipykernel)",
   "language": "python",
   "name": "python3"
  },
  "language_info": {
   "codemirror_mode": {
    "name": "ipython",
    "version": 3
   },
   "file_extension": ".py",
   "mimetype": "text/x-python",
   "name": "python",
   "nbconvert_exporter": "python",
   "pygments_lexer": "ipython3",
   "version": "3.9.7"
  }
 },
 "nbformat": 4,
 "nbformat_minor": 4
}
